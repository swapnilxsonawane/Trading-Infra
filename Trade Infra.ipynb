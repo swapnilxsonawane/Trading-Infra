{
 "cells": [
  {
   "cell_type": "markdown",
   "id": "5b87a996-aa7d-43d0-9f29-57d007e73ea8",
   "metadata": {},
   "source": [
    "Swapnil Sonawane  \n",
    "Quantitative Trader\n",
    "South Delhi, Delhi, India \n",
    "\n",
    "https://www.linkedin.com/in/swapnil-sonawane-53763116/"
   ]
  },
  {
   "cell_type": "markdown",
   "id": "efac932e-db4e-4f1f-a1d1-147118a5a080",
   "metadata": {
    "tags": []
   },
   "source": [
    "# VIRTUALIZATION"
   ]
  },
  {
   "cell_type": "markdown",
   "id": "ec61e171-b8c6-4fcb-a91d-3fe75e867351",
   "metadata": {},
   "source": [
    "![title](vm.jpg)"
   ]
  },
  {
   "cell_type": "markdown",
   "id": "dc5be392-56ce-4aa4-8d7b-36587a96c7f6",
   "metadata": {},
   "source": [
    "I designed the quant trading infra from the scratch using open source software at a prop desk.\n",
    "\n",
    "On premise custom built desktop.\n",
    "\n",
    "- CPU : AMD RYZEN 5950x 32 Threads @ 4.9Ghz max\n",
    "- MOBO : Asus Prime X570-p\n",
    "- RAM : 64GB DDR4 RAM @ 3200Mhz\n",
    "- HDD : 2 X 4TB\n",
    "- Cooling : Deep Cool L360RGB Liquid cooler\n",
    "- Power : Deep Cool 850W Gold SMPS\n",
    "\n",
    "The CPU uses debian server as host operating system and KVM for virutalization. It is designed to be a portable quant research lab.\n",
    "\n",
    "QUANT CLIENT VM (green) are accessed by traders for model building and monitoring production environment. \n",
    "\n",
    "QUANT SERVER VM (orange) acts as the central brain of the operation. All data crunching, algo products, market data feed and order execution systems sit here."
   ]
  },
  {
   "cell_type": "markdown",
   "id": "171e9878-be52-401c-838b-4c255fb5145d",
   "metadata": {
    "tags": []
   },
   "source": [
    "# INFRASTRUCTURE\n",
    "LEFT QUANT CLIENT VM <=====> RIGHT QUANT SERVER VM"
   ]
  },
  {
   "cell_type": "markdown",
   "id": "425661a3-0a95-45ba-9c07-347094bc8a84",
   "metadata": {},
   "source": [
    "![title](xls_infra_2.jpg)"
   ]
  },
  {
   "cell_type": "markdown",
   "id": "3c228a3f-56fd-4eda-9c10-48a1de7a0ad4",
   "metadata": {},
   "source": [
    "- NIC : Network Interface Card\n",
    "- Message Pipeline : Communication protocols available\n",
    "- Data Adapter : User Interface to the system\n",
    "- Exchange : Market data and order execution venue\n",
    "- MQTT : Lightweight messaging protocol\n",
    "- FTP : File Transfer Protocol\n",
    "- RMS : Firmwide Risk Management System\n",
    "- uTrade : Low Latency Order execution API \n",
    "- NSE Adapter : Reads market data from exchange\n",
    "- Live : Market data broker \n",
    "- BSM : Black Scholes Model to price derivatives\n",
    "- Historical : Historical market data archives\n",
    "- Vol Surface : Volatility surface for pricing options\n",
    "- Mock : Mock trading or paper trading service\n",
    "- Models : In-production Fully automated algo trading models\n",
    "- SSH : Used to access remote shell \n",
    "- Conf : Configuration file for different services and job schedulers\n",
    "- Juplab : Remotely hosted Jupyter Notebooks for research\n",
    "- Excel : Excel sheets for use as live dashboard"
   ]
  },
  {
   "cell_type": "markdown",
   "id": "81533b4f-8d45-4122-9480-b884ae6b744b",
   "metadata": {},
   "source": [
    "# OPTION STRUCTURING ENGINE\n",
    "\n",
    "The firm trades a lot of options strats and needs option valuation tools and pricing these baskets as well as simulate these baskets to different market vol regimes"
   ]
  },
  {
   "cell_type": "markdown",
   "id": "cde9e54f-4999-4f82-b2a1-3f66d3e5b2fe",
   "metadata": {},
   "source": [
    "![title](priceladder.png)"
   ]
  },
  {
   "cell_type": "markdown",
   "id": "b52a6a57-f0cc-4dfe-86aa-95e54775bfe1",
   "metadata": {},
   "source": [
    "![title](STRUCTURE.png)"
   ]
  },
  {
   "cell_type": "markdown",
   "id": "05ac0907-f9e5-4be6-9fd3-f7c647fd07f6",
   "metadata": {},
   "source": [
    "Each color represents the payoff of a multi-leg option basket designed to capture implied and realised variance of the underlying under different market volatility regimes \n",
    "\n",
    "The derivatives structuring engine is used to automatically price and compare payoffs available for different multileg option baskets at different strikes where 0 represents ATM. "
   ]
  },
  {
   "cell_type": "markdown",
   "id": "8f92e726-9fc9-4172-8e9e-73b0c83e2b80",
   "metadata": {},
   "source": [
    "# GREEK PNL ENGINE\n",
    "\n",
    "Allows you to understand the PnL performance of the option basket in live markets and historical data.\n",
    "\n",
    "Tool based on the famous Option Profit and Loss Attribution and Pricing: A New Framework by Peter Carr.\n",
    "\n",
    "Visualize the options payoff over time based on separate greek exposure."
   ]
  },
  {
   "cell_type": "markdown",
   "id": "85aa13de-aeec-4e57-9f6f-619ee99e20ad",
   "metadata": {},
   "source": [
    "![title](otpion_pnl.png)"
   ]
  },
  {
   "cell_type": "markdown",
   "id": "0cab30db-18f3-48ca-a0cc-51edb9f17e51",
   "metadata": {},
   "source": [
    "![title](vega_pnl.png)"
   ]
  },
  {
   "cell_type": "markdown",
   "id": "2d8c88f5-c771-4600-a7f8-b96f1ac70498",
   "metadata": {},
   "source": [
    "![title](theta_pnl.png)"
   ]
  },
  {
   "cell_type": "markdown",
   "id": "0cb52d06-d245-4758-a9e4-d9a3d3d9853b",
   "metadata": {},
   "source": [
    "![title](delta_pnl.png)"
   ]
  },
  {
   "cell_type": "markdown",
   "id": "72f76e22-0086-43b7-8d08-7283be77dc34",
   "metadata": {},
   "source": [
    "![title](gamma_pnl.png)"
   ]
  },
  {
   "cell_type": "markdown",
   "id": "4f5d3637-1665-4591-8422-48af471197e2",
   "metadata": {},
   "source": [
    "# REALTIME GREEK SENSITIVY CALCULATIONS"
   ]
  },
  {
   "cell_type": "markdown",
   "id": "7d64a53f-b99e-42bd-86ff-b3f2745c3c19",
   "metadata": {},
   "source": [
    "![title](greeks.png)"
   ]
  },
  {
   "cell_type": "markdown",
   "id": "4465b99d-c5eb-4182-91ac-9764465653c9",
   "metadata": {},
   "source": [
    "# MARKET DECODING ADAPTER\n",
    "\n",
    "Used to read byte encoded market data from NSE"
   ]
  },
  {
   "cell_type": "markdown",
   "id": "4f4df65e-9719-4794-a264-cfe4548fd860",
   "metadata": {},
   "source": [
    "![title](nnf.png)"
   ]
  },
  {
   "cell_type": "markdown",
   "id": "1aca647c-3334-423c-be83-9ea872359a19",
   "metadata": {},
   "source": [
    "# BUILDING EXCEL FOR LIVE TRADING\n",
    "\n",
    "Built excel tools for windows users.\n",
    "\n",
    "Live excel pricing for trading complex multileg option baskets."
   ]
  },
  {
   "cell_type": "markdown",
   "id": "6167f4b2-6eb3-456f-8ced-bc0717339e34",
   "metadata": {},
   "source": [
    "![title](excel.png)"
   ]
  },
  {
   "cell_type": "markdown",
   "id": "2c20c844-decf-4170-b3fb-54d3ece90e43",
   "metadata": {},
   "source": [
    "Option strategy simulation inside excel"
   ]
  },
  {
   "cell_type": "markdown",
   "id": "893dbae2-05cd-4874-983e-696139c18a28",
   "metadata": {},
   "source": [
    "![title](simu.png)"
   ]
  },
  {
   "cell_type": "markdown",
   "id": "693ab146-8fc9-48c9-90db-32c61e67d0c8",
   "metadata": {},
   "source": [
    "# MULTITHREAD BACKTESTING\n",
    "\n",
    "Expertise in quant research and algo strat development and model validation"
   ]
  },
  {
   "cell_type": "markdown",
   "id": "7eb7c8b2-a7e0-4a49-851b-de6893a29151",
   "metadata": {},
   "source": [
    "![title](multithread.png)"
   ]
  },
  {
   "cell_type": "markdown",
   "id": "fb529ad7-532f-435d-9ace-c5b7682d4c73",
   "metadata": {},
   "source": [
    "![title](BACKTEST.png)"
   ]
  },
  {
   "cell_type": "code",
   "execution_count": null,
   "id": "a9efbddd-ffe1-44fa-82f9-378865b22041",
   "metadata": {},
   "outputs": [],
   "source": []
  }
 ],
 "metadata": {
  "kernelspec": {
   "display_name": "Python 3 (ipykernel)",
   "language": "python",
   "name": "python3"
  },
  "language_info": {
   "codemirror_mode": {
    "name": "ipython",
    "version": 3
   },
   "file_extension": ".py",
   "mimetype": "text/x-python",
   "name": "python",
   "nbconvert_exporter": "python",
   "pygments_lexer": "ipython3",
   "version": "3.8.10"
  }
 },
 "nbformat": 4,
 "nbformat_minor": 5
}
